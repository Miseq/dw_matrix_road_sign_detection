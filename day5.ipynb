{
  "nbformat": 4,
  "nbformat_minor": 0,
  "metadata": {
    "colab": {
      "name": "day5.ipynb",
      "provenance": [],
      "mount_file_id": "1oR2IQboRJaHO30ka4rerNjn2Ih8crwEV",
      "authorship_tag": "ABX9TyOwXSFPToUv4CcgPYUq5Yv+",
      "include_colab_link": true
    },
    "kernelspec": {
      "name": "python3",
      "display_name": "Python 3"
    },
    "accelerator": "GPU"
  },
  "cells": [
    {
      "cell_type": "markdown",
      "metadata": {
        "id": "view-in-github",
        "colab_type": "text"
      },
      "source": [
        "<a href=\"https://colab.research.google.com/github/Miseq/dw_matrix_road_sign_detection/blob/master/day5.ipynb\" target=\"_parent\"><img src=\"https://colab.research.google.com/assets/colab-badge.svg\" alt=\"Open In Colab\"/></a>"
      ]
    },
    {
      "cell_type": "code",
      "metadata": {
        "id": "2q5ikrY7ZK2s",
        "colab_type": "code",
        "outputId": "f13e7478-224a-43ce-a589-0ef441ec450b",
        "colab": {
          "base_uri": "https://localhost:8080/",
          "height": 168
        }
      },
      "source": [
        "!pip install hyperopt"
      ],
      "execution_count": 1,
      "outputs": [
        {
          "output_type": "stream",
          "text": [
            "Requirement already satisfied: hyperopt in /usr/local/lib/python3.6/dist-packages (0.1.2)\n",
            "Requirement already satisfied: future in /usr/local/lib/python3.6/dist-packages (from hyperopt) (0.16.0)\n",
            "Requirement already satisfied: tqdm in /usr/local/lib/python3.6/dist-packages (from hyperopt) (4.38.0)\n",
            "Requirement already satisfied: numpy in /usr/local/lib/python3.6/dist-packages (from hyperopt) (1.18.2)\n",
            "Requirement already satisfied: networkx in /usr/local/lib/python3.6/dist-packages (from hyperopt) (2.4)\n",
            "Requirement already satisfied: pymongo in /usr/local/lib/python3.6/dist-packages (from hyperopt) (3.10.1)\n",
            "Requirement already satisfied: six in /usr/local/lib/python3.6/dist-packages (from hyperopt) (1.12.0)\n",
            "Requirement already satisfied: scipy in /usr/local/lib/python3.6/dist-packages (from hyperopt) (1.4.1)\n",
            "Requirement already satisfied: decorator>=4.3.0 in /usr/local/lib/python3.6/dist-packages (from networkx->hyperopt) (4.4.2)\n"
          ],
          "name": "stdout"
        }
      ]
    },
    {
      "cell_type": "code",
      "metadata": {
        "id": "iydWuzS1ZgFh",
        "colab_type": "code",
        "colab": {}
      },
      "source": [
        "import pandas as pd\n",
        "import os\n",
        "import datetime\n",
        "import numpy as np\n",
        "import tensorflow as tf\n",
        "import matplotlib.pyplot as plt\n",
        "from skimage import color, exposure \n",
        "from tensorflow.keras.models import Sequential\n",
        "from tensorflow.keras.layers import Conv2D, MaxPool2D, Dense, Flatten, Dropout\n",
        "from tensorflow.keras.utils import  to_categorical\n",
        "from tensorflow.keras.callbacks import TensorBoard\n",
        "from sklearn.metrics import accuracy_score\n",
        "from hyperopt import hp, STATUS_OK, tpe, Trials, fmin\n",
        "\n",
        "%load_ext tensorboard\n"
      ],
      "execution_count": 0,
      "outputs": []
    },
    {
      "cell_type": "code",
      "metadata": {
        "id": "ssoo5gtpZpDN",
        "colab_type": "code",
        "outputId": "d3982ab4-d566-4902-b21a-a4b82e9596d8",
        "colab": {
          "base_uri": "https://localhost:8080/",
          "height": 34
        }
      },
      "source": [
        "cd '/content/drive/My Drive/Colab Notebooks/matrix/matrix_three/dw_matrix_road_sign_detection/data'"
      ],
      "execution_count": 3,
      "outputs": [
        {
          "output_type": "stream",
          "text": [
            "/content/drive/My Drive/Colab Notebooks/matrix/matrix_three/dw_matrix_road_sign_detection/data\n"
          ],
          "name": "stdout"
        }
      ]
    },
    {
      "cell_type": "code",
      "metadata": {
        "id": "v0x-9xLPZsk9",
        "colab_type": "code",
        "colab": {}
      },
      "source": [
        "train = pd.read_pickle('train.p')\n",
        "test = pd.read_pickle('test.p')\n",
        "x_train, y_train = train['features'], train['labels']\n",
        "x_test, y_test = test['features'], test['labels']"
      ],
      "execution_count": 0,
      "outputs": []
    },
    {
      "cell_type": "code",
      "metadata": {
        "id": "Y5s6cWDkZvKW",
        "colab_type": "code",
        "colab": {}
      },
      "source": [
        "if y_train.ndim == 1: y_train = to_categorical(y_train)\n",
        "if y_test.ndim == 1: y_test = to_categorical(y_test)\n",
        "input_shape = x_train.shape[1:]\n",
        "num_clases = y_train.shape[1]\n"
      ],
      "execution_count": 0,
      "outputs": []
    },
    {
      "cell_type": "code",
      "metadata": {
        "id": "55WLZd9_Z0p3",
        "colab_type": "code",
        "colab": {}
      },
      "source": [
        "def train_model(model, x_train, y_train, params_fit={}):\n",
        "  model.compile(loss='categorical_crossentropy', optimizer='Adam', metrics=['accuracy'])\n",
        "  logdir = os.path.join('logs', datetime.datetime.now().strftime(\"%Y%m%d-%H%M%S\"))\n",
        "  tensorboard_callback = tf.keras.callbacks.TensorBoard(logdir, histogram_freq=1)\n",
        "  model.fit(\n",
        "      x_train, \n",
        "      y_train,\n",
        "      batch_size = params_fit.get('batch_size', 128),\n",
        "      epochs = params_fit.get('epochs', 5),\n",
        "      verbose = params_fit.get('verbose', 1),\n",
        "      validation_data = params_fit.get('validation_data', (x_train, y_train)),\n",
        "      callbacks = [tensorboard_callback]\n",
        "      )\n",
        "  \n",
        "  return model"
      ],
      "execution_count": 0,
      "outputs": []
    },
    {
      "cell_type": "code",
      "metadata": {
        "id": "1KOWOuiBaAur",
        "colab_type": "code",
        "colab": {}
      },
      "source": [
        "def predict(model_trained, x_test, y_test, scoring=accuracy_score):\n",
        "  \n",
        "  y_test_norm = np.argmax(y_test, axis=1)\n",
        "  y_pred_prob = model_trained.predict(x_test)\n",
        "  y_pred = np.argmax(y_pred_prob, axis=1)\n",
        "\n",
        "  return scoring(y_test_norm, y_pred)"
      ],
      "execution_count": 0,
      "outputs": []
    },
    {
      "cell_type": "code",
      "metadata": {
        "id": "sWDF7lbdaRVi",
        "colab_type": "code",
        "colab": {}
      },
      "source": [
        "def train_and_predict(model):\n",
        "  model_trained = train_model(model, x_train, y_train)\n",
        "  return predict(model_trained, x_test, y_test)"
      ],
      "execution_count": 0,
      "outputs": []
    },
    {
      "cell_type": "code",
      "metadata": {
        "id": "wEUxVCEqaDVc",
        "colab_type": "code",
        "colab": {}
      },
      "source": [
        "def get_cnn_v3(input_shape,num_clases):\n",
        "  return Sequential([\n",
        "                    \n",
        "                    Conv2D(filters=32, kernel_size=(3,3), activation='relu', input_shape = input_shape),\n",
        "                    Conv2D(filters=32, kernel_size=(3,3), activation='relu', padding='same'),\n",
        "        \n",
        "                    MaxPool2D(),\n",
        "                    Dropout(0.3),\n",
        "                    \n",
        "                    Conv2D(filters=64, kernel_size=(3,3), activation='relu', padding='same'),\n",
        "                    Conv2D(filters=64, kernel_size=(3,3), activation='relu'),\n",
        "\n",
        "                     MaxPool2D(),\n",
        "                    Dropout(0.3),\n",
        "                   \n",
        "                   Conv2D(filters=64, kernel_size=(3,3), activation='relu', padding='same'),\n",
        "                    Conv2D(filters=64, kernel_size=(3,3), activation='relu'),\n",
        "\n",
        "                     MaxPool2D(),\n",
        "                    Dropout(0.3),\n",
        "\n",
        "                    Flatten(),\n",
        "                    Dense(1024, activation='relu'),\n",
        "                    Dropout(0.3),\n",
        "                    Dense(num_clases, activation='softmax'),\n",
        "]) \n"
      ],
      "execution_count": 0,
      "outputs": []
    },
    {
      "cell_type": "code",
      "metadata": {
        "id": "qhXn1P3caNEy",
        "colab_type": "code",
        "outputId": "247ffa42-b1ef-4ead-d2c3-5681da95c860",
        "colab": {
          "base_uri": "https://localhost:8080/",
          "height": 202
        }
      },
      "source": [
        "model = get_cnn_v3(input_shape, num_clases)  # uczymy na szarych, shpae: 32, 32,1\n",
        "model_trained = train_model(model, x_train, y_train, params_fit={})\n",
        "predict(model_trained, x_test, y_test)"
      ],
      "execution_count": 10,
      "outputs": [
        {
          "output_type": "stream",
          "text": [
            "Epoch 1/5\n",
            "272/272 [==============================] - 4s 14ms/step - loss: 2.5512 - accuracy: 0.3294 - val_loss: 0.7875 - val_accuracy: 0.7795\n",
            "Epoch 2/5\n",
            "272/272 [==============================] - 3s 13ms/step - loss: 0.7734 - accuracy: 0.7615 - val_loss: 0.2010 - val_accuracy: 0.9532\n",
            "Epoch 3/5\n",
            "272/272 [==============================] - 3s 13ms/step - loss: 0.3631 - accuracy: 0.8913 - val_loss: 0.0738 - val_accuracy: 0.9799\n",
            "Epoch 4/5\n",
            "272/272 [==============================] - 3s 12ms/step - loss: 0.2306 - accuracy: 0.9330 - val_loss: 0.0444 - val_accuracy: 0.9878\n",
            "Epoch 5/5\n",
            "272/272 [==============================] - 3s 13ms/step - loss: 0.1715 - accuracy: 0.9504 - val_loss: 0.0369 - val_accuracy: 0.9909\n"
          ],
          "name": "stdout"
        },
        {
          "output_type": "execute_result",
          "data": {
            "text/plain": [
              "0.963718820861678"
            ]
          },
          "metadata": {
            "tags": []
          },
          "execution_count": 10
        }
      ]
    },
    {
      "cell_type": "code",
      "metadata": {
        "id": "-gnvUz9lbKaB",
        "colab_type": "code",
        "outputId": "87ec4815-adfd-4a29-f2ef-209456bc7835",
        "colab": {
          "base_uri": "https://localhost:8080/",
          "height": 50
        }
      },
      "source": [
        "model_trained.evaluate(x_test, y_test)[1]"
      ],
      "execution_count": 11,
      "outputs": [
        {
          "output_type": "stream",
          "text": [
            "138/138 [==============================] - 0s 3ms/step - loss: 0.1319 - accuracy: 0.9637\n"
          ],
          "name": "stdout"
        },
        {
          "output_type": "execute_result",
          "data": {
            "text/plain": [
              "0.963718831539154"
            ]
          },
          "metadata": {
            "tags": []
          },
          "execution_count": 11
        }
      ]
    },
    {
      "cell_type": "code",
      "metadata": {
        "id": "HEGrzxkBdmFo",
        "colab_type": "code",
        "colab": {}
      },
      "source": [
        "def get_model(params):\n",
        "  return Sequential([\n",
        "                    \n",
        "                    Conv2D(filters=32, kernel_size=(3,3), activation='relu', input_shape = input_shape),\n",
        "                    Conv2D(filters=32, kernel_size=(3,3), activation='relu', padding='same'),\n",
        "        \n",
        "                    MaxPool2D(),\n",
        "                    Dropout(params['dopout_cnn_block_one']),\n",
        "                    \n",
        "                    Conv2D(filters=64, kernel_size=(3,3), activation='relu', padding='same'),\n",
        "                    Conv2D(filters=64, kernel_size=(3,3), activation='relu'),\n",
        "\n",
        "                     MaxPool2D(),\n",
        "                    Dropout(params['dopout_cnn_block_two']),\n",
        "                   \n",
        "                   Conv2D(filters=64, kernel_size=(3,3), activation='relu', padding='same'),\n",
        "                    Conv2D(filters=64, kernel_size=(3,3), activation='relu'),\n",
        "\n",
        "                     MaxPool2D(),\n",
        "                    Dropout(params['dopout_cnn_block_three']),\n",
        "\n",
        "                    Flatten(),\n",
        "                    Dense(1024, activation='relu'),\n",
        "                    Dropout(params['dopout_dense_one']),\n",
        "                    \n",
        "                    Dense(num_clases, activation='relu'),\n",
        "                    Dropout(params['dopout_dense_two']),\n",
        "  \n",
        "                    Dense(num_clases, activation='softmax')                   \n",
        "]) \n",
        "  \n"
      ],
      "execution_count": 0,
      "outputs": []
    },
    {
      "cell_type": "code",
      "metadata": {
        "id": "xwC7WdoxagdS",
        "colab_type": "code",
        "colab": {}
      },
      "source": [
        "def func_obj(params):\n",
        "  model = get_model(params)\n",
        "  model.compile(loss='categorical_crossentropy', optimizer='Adam', metrics=['accuracy'])\n",
        "  \n",
        "  model.fit(\n",
        "      x_train, \n",
        "      y_train,\n",
        "      batch_size = int(params.get('batch_size', 128)),\n",
        "      epochs = 5,\n",
        "      verbose = 0\n",
        "      )\n",
        "\n",
        "  score = model.evaluate(x_test, y_test, verbose=0)\n",
        "  acc = score[1]\n",
        "  print(params, 'accuracy={}'.format(acc))\n",
        "\n",
        "  return {'loss': -acc, 'status': STATUS_OK, 'model': model}"
      ],
      "execution_count": 0,
      "outputs": []
    },
    {
      "cell_type": "code",
      "metadata": {
        "id": "bllnMAl8bUKb",
        "colab_type": "code",
        "outputId": "8298d3d8-d1c9-47ba-91a1-c06c0f130fad",
        "colab": {
          "base_uri": "https://localhost:8080/",
          "height": 726
        }
      },
      "source": [
        "space = {\n",
        "    'batch_size': hp.quniform('batch_size', 100, 200, 10),\n",
        "    'dopout_cnn_block_one': hp.uniform('dopout_cnn_block_one', 0.3, 0.5),\n",
        "    'dopout_cnn_block_two': hp.uniform('dopout_cnn_block_two', 0.5, 0.5),\n",
        "    'dopout_cnn_block_three': hp.uniform('dopout_cnn_block_three', 0.3, 0.5),\n",
        "\n",
        "    'dopout_dense_one': hp.uniform('dopout_dense_one', 0.3, 0.7),\n",
        "    'dopout_dense_two': hp.uniform('dopout_dense_two', 0.3 , 0.7)\n",
        "\n",
        "}\n",
        "\n",
        "best = fmin(\n",
        "    func_obj,\n",
        "    space,\n",
        "    tpe.suggest,\n",
        "    20,\n",
        "    Trials()\n",
        ")"
      ],
      "execution_count": 29,
      "outputs": [
        {
          "output_type": "stream",
          "text": [
            "{'batch_size': 200.0, 'dopout_cnn_block_one': 0.4752265452567715, 'dopout_cnn_block_three': 0.3413790038635084, 'dopout_cnn_block_two': 0.5, 'dopout_dense_one': 0.5230556448977967, 'dopout_dense_two': 0.4593705127514261}\n",
            "accuracy=0.46371883153915405\n",
            "{'batch_size': 140.0, 'dopout_cnn_block_one': 0.4096516511240827, 'dopout_cnn_block_three': 0.4416041627746028, 'dopout_cnn_block_two': 0.5, 'dopout_dense_one': 0.42050611582359854, 'dopout_dense_two': 0.5208788105197198}\n",
            "accuracy=0.054421767592430115\n",
            "{'batch_size': 200.0, 'dopout_cnn_block_one': 0.44436446220262305, 'dopout_cnn_block_three': 0.36382452503633517, 'dopout_cnn_block_two': 0.5, 'dopout_dense_one': 0.6544628831531029, 'dopout_dense_two': 0.40975488761032985}\n",
            "accuracy=0.680272102355957\n",
            "{'batch_size': 130.0, 'dopout_cnn_block_one': 0.44526007610767515, 'dopout_cnn_block_three': 0.49136304779047746, 'dopout_cnn_block_two': 0.5, 'dopout_dense_one': 0.49795082370851895, 'dopout_dense_two': 0.3949618567689118}\n",
            "accuracy=0.4056689441204071\n",
            "{'batch_size': 180.0, 'dopout_cnn_block_one': 0.34256408996358984, 'dopout_cnn_block_three': 0.38755068592688624, 'dopout_cnn_block_two': 0.5, 'dopout_dense_one': 0.5170911329994843, 'dopout_dense_two': 0.5658990319367907}\n",
            "accuracy=0.4664399027824402\n",
            "{'batch_size': 120.0, 'dopout_cnn_block_one': 0.48458236747147865, 'dopout_cnn_block_three': 0.46423730185979123, 'dopout_cnn_block_two': 0.5, 'dopout_dense_one': 0.3371461347157027, 'dopout_dense_two': 0.6347984733552026}\n",
            "accuracy=0.054421767592430115\n",
            "{'batch_size': 120.0, 'dopout_cnn_block_one': 0.35500265230039507, 'dopout_cnn_block_three': 0.48049689814895596, 'dopout_cnn_block_two': 0.5, 'dopout_dense_one': 0.6317123982505825, 'dopout_dense_two': 0.42059749495713894}\n",
            "accuracy=0.3632653057575226\n",
            "{'batch_size': 140.0, 'dopout_cnn_block_one': 0.46508339323170933, 'dopout_cnn_block_three': 0.4280680362873359, 'dopout_cnn_block_two': 0.5, 'dopout_dense_one': 0.4165983572252998, 'dopout_dense_two': 0.3165866037025877}\n",
            "accuracy=0.5281178951263428\n",
            "{'batch_size': 180.0, 'dopout_cnn_block_one': 0.3888214458895427, 'dopout_cnn_block_three': 0.44435344386963427, 'dopout_cnn_block_two': 0.5, 'dopout_dense_one': 0.6687077591508176, 'dopout_dense_two': 0.5849170208347574}\n",
            "accuracy=0.3133786916732788\n",
            "{'batch_size': 130.0, 'dopout_cnn_block_one': 0.4792503068843109, 'dopout_cnn_block_three': 0.3870813914108981, 'dopout_cnn_block_two': 0.5, 'dopout_dense_one': 0.45882052041977084, 'dopout_dense_two': 0.4031188951358395}\n",
            "accuracy=0.31995463371276855\n",
            "{'batch_size': 130.0, 'dopout_cnn_block_one': 0.41197037927496827, 'dopout_cnn_block_three': 0.46581754735362496, 'dopout_cnn_block_two': 0.5, 'dopout_dense_one': 0.4375545731600357, 'dopout_dense_two': 0.5731563184792785}\n",
            "accuracy=0.054421767592430115\n",
            "{'batch_size': 170.0, 'dopout_cnn_block_one': 0.4970662493028144, 'dopout_cnn_block_three': 0.4458220104774947, 'dopout_cnn_block_two': 0.5, 'dopout_dense_one': 0.4104169190466769, 'dopout_dense_two': 0.35697617105989843}\n",
            "accuracy=0.31315192580223083\n",
            "{'batch_size': 180.0, 'dopout_cnn_block_one': 0.3317223686086507, 'dopout_cnn_block_three': 0.4183837592875216, 'dopout_cnn_block_two': 0.5, 'dopout_dense_one': 0.5048615555044667, 'dopout_dense_two': 0.46741465267020527}\n",
            "accuracy=0.42811790108680725\n",
            "{'batch_size': 110.0, 'dopout_cnn_block_one': 0.3578286031482249, 'dopout_cnn_block_three': 0.32139920470661826, 'dopout_cnn_block_two': 0.5, 'dopout_dense_one': 0.36863155154359856, 'dopout_dense_two': 0.49462352081421945}\n",
            "accuracy=0.054421767592430115\n",
            "{'batch_size': 120.0, 'dopout_cnn_block_one': 0.32940723172500624, 'dopout_cnn_block_three': 0.3435466464316647, 'dopout_cnn_block_two': 0.5, 'dopout_dense_one': 0.5140049931246096, 'dopout_dense_two': 0.5264505530817004}\n",
            "accuracy=0.3702947795391083\n",
            "{'batch_size': 120.0, 'dopout_cnn_block_one': 0.4213294097430249, 'dopout_cnn_block_three': 0.4256940890515589, 'dopout_cnn_block_two': 0.5, 'dopout_dense_one': 0.3827263339056636, 'dopout_dense_two': 0.3359255890594534}\n",
            "accuracy=0.41292518377304077\n",
            "{'batch_size': 150.0, 'dopout_cnn_block_one': 0.3275270484058272, 'dopout_cnn_block_three': 0.36514793798929557, 'dopout_cnn_block_two': 0.5, 'dopout_dense_one': 0.3650106172781511, 'dopout_dense_two': 0.5643006406252233}\n",
            "accuracy=0.054421767592430115\n",
            "{'batch_size': 120.0, 'dopout_cnn_block_one': 0.4181494873107141, 'dopout_cnn_block_three': 0.43536005820129975, 'dopout_cnn_block_two': 0.5, 'dopout_dense_one': 0.48208106964088066, 'dopout_dense_two': 0.6021636672126445}\n",
            "accuracy=0.31700679659843445\n",
            "{'batch_size': 140.0, 'dopout_cnn_block_one': 0.38612273147732185, 'dopout_cnn_block_three': 0.3467869017452508, 'dopout_cnn_block_two': 0.5, 'dopout_dense_one': 0.5643581245557199, 'dopout_dense_two': 0.37209643124508807}\n",
            "accuracy=0.7292516827583313\n",
            "{'batch_size': 130.0, 'dopout_cnn_block_one': 0.32911440402124864, 'dopout_cnn_block_three': 0.30952756448831026, 'dopout_cnn_block_two': 0.5, 'dopout_dense_one': 0.6594517936004043, 'dopout_dense_two': 0.47587185863022075}\n",
            "accuracy=0.5306122303009033\n",
            "100%|██████████| 20/20 [03:19<00:00,  9.99s/it, best loss: -0.7292516827583313]\n"
          ],
          "name": "stdout"
        }
      ]
    },
    {
      "cell_type": "markdown",
      "metadata": {
        "id": "nlsXN4VXlFQ3",
        "colab_type": "text"
      },
      "source": [
        ""
      ]
    },
    {
      "cell_type": "code",
      "metadata": {
        "id": "qiHPXPIIccWl",
        "colab_type": "code",
        "colab": {}
      },
      "source": [
        ""
      ],
      "execution_count": 0,
      "outputs": []
    }
  ]
}